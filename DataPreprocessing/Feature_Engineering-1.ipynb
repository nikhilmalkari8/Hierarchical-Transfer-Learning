{
 "cells": [
  {
   "cell_type": "code",
   "execution_count": 2,
   "id": "d55c1463-de97-4247-a4ee-6a95431a9f53",
   "metadata": {},
   "outputs": [
    {
     "name": "stdout",
     "output_type": "stream",
     "text": [
      "Unique sentiments in IMDB:\n",
      "['positive' 'negative']\n",
      "\n",
      "\n",
      "Unique sentiments in All Data:\n",
      "['neutral' 'negative' 'positive']\n",
      "\n",
      "\n",
      "Unique sentiments in Twitter:\n",
      "['positive' 'neutral' 'negative' 'irrelevant']\n",
      "\n",
      "\n"
     ]
    }
   ],
   "source": [
    "import pandas as pd\n",
    "\n",
    "# Load the datasets\n",
    "imdb_df = pd.read_csv('/Users/nikhilmalkari/Documents/PhD/Main Papers/Hierarchical Transfer Learning for Sentiment Analysis and Text Classification in Low-Resource Domains/Hierarchical-Transfer-Learning-Code/Data/imdb_preprocessed.csv')\n",
    "all_data_df = pd.read_csv('/Users/nikhilmalkari/Documents/PhD/Main Papers/Hierarchical Transfer Learning for Sentiment Analysis and Text Classification in Low-Resource Domains/Hierarchical-Transfer-Learning-Code/Data/all_data_preprocessed.csv')\n",
    "twitter_df = pd.read_csv('/Users/nikhilmalkari/Documents/PhD/Main Papers/Hierarchical Transfer Learning for Sentiment Analysis and Text Classification in Low-Resource Domains/Hierarchical-Transfer-Learning-Code/Data/twitter_preprocessed.csv')\n",
    "\n",
    "# Function to check and print unique sentiment labels\n",
    "def check_sentiments(df, name):\n",
    "    print(f\"Unique sentiments in {name}:\")\n",
    "    print(df['sentiment'].unique())\n",
    "    print(\"\\n\")\n",
    "\n",
    "# Check sentiment labels in all datasets\n",
    "check_sentiments(imdb_df, 'IMDB')\n",
    "check_sentiments(all_data_df, 'All Data')\n",
    "check_sentiments(twitter_df, 'Twitter')"
   ]
  },
  {
   "cell_type": "code",
   "execution_count": 3,
   "id": "38d943df-45de-425e-931e-de665580d30d",
   "metadata": {},
   "outputs": [
    {
     "name": "stdout",
     "output_type": "stream",
     "text": [
      "Unique sentiments in All Data (No Neutral):\n",
      "['negative' 'positive']\n",
      "\n",
      "\n",
      "Unique sentiments in Twitter (No Neutral):\n",
      "['positive' 'negative' 'irrelevant']\n",
      "\n",
      "\n"
     ]
    }
   ],
   "source": [
    "import pandas as pd\n",
    "\n",
    "# Load the datasets using the provided paths\n",
    "imdb_df = pd.read_csv('/Users/nikhilmalkari/Documents/PhD/Main Papers/Hierarchical Transfer Learning for Sentiment Analysis and Text Classification in Low-Resource Domains/Hierarchical-Transfer-Learning-Code/Data/imdb_preprocessed.csv')\n",
    "all_data_df = pd.read_csv('/Users/nikhilmalkari/Documents/PhD/Main Papers/Hierarchical Transfer Learning for Sentiment Analysis and Text Classification in Low-Resource Domains/Hierarchical-Transfer-Learning-Code/Data/all_data_preprocessed.csv')\n",
    "twitter_df = pd.read_csv('/Users/nikhilmalkari/Documents/PhD/Main Papers/Hierarchical Transfer Learning for Sentiment Analysis and Text Classification in Low-Resource Domains/Hierarchical-Transfer-Learning-Code/Data/twitter_preprocessed.csv')\n",
    "\n",
    "# Function to remove 'neutral' sentiments\n",
    "def remove_neutral(df):\n",
    "    return df[df['sentiment'] != 'neutral']\n",
    "\n",
    "# Apply the function to remove 'neutral' sentiments\n",
    "all_data_df = remove_neutral(all_data_df)\n",
    "twitter_df = remove_neutral(twitter_df)\n",
    "\n",
    "# Save the updated datasets back to their respective locations\n",
    "all_data_df.to_csv('/Users/nikhilmalkari/Documents/PhD/Main Papers/Hierarchical Transfer Learning for Sentiment Analysis and Text Classification in Low-Resource Domains/Hierarchical-Transfer-Learning-Code/Data/all_data_no_neutral.csv', index=False)\n",
    "twitter_df.to_csv('/Users/nikhilmalkari/Documents/PhD/Main Papers/Hierarchical Transfer Learning for Sentiment Analysis and Text Classification in Low-Resource Domains/Hierarchical-Transfer-Learning-Code/Data/twitter_no_neutral.csv', index=False)\n",
    "\n",
    "# Check the sentiment labels after removal\n",
    "def check_sentiments(df, name):\n",
    "    print(f\"Unique sentiments in {name}:\")\n",
    "    print(df['sentiment'].unique())\n",
    "    print(\"\\n\")\n",
    "\n",
    "check_sentiments(all_data_df, 'All Data (No Neutral)')\n",
    "check_sentiments(twitter_df, 'Twitter (No Neutral)')\n"
   ]
  },
  {
   "cell_type": "code",
   "execution_count": 4,
   "id": "096a22ef-eadb-4ad7-aad6-102f39be379c",
   "metadata": {},
   "outputs": [
    {
     "name": "stdout",
     "output_type": "stream",
     "text": [
      "Unique sentiments in All Data (No Neutral):\n",
      "['negative' 'positive']\n",
      "\n",
      "\n",
      "Unique sentiments in Twitter (No Neutral, No Irrelevant):\n",
      "['positive' 'negative']\n",
      "\n",
      "\n"
     ]
    }
   ],
   "source": [
    "import pandas as pd\n",
    "\n",
    "# Load the datasets using the provided paths\n",
    "imdb_df = pd.read_csv('/Users/nikhilmalkari/Documents/PhD/Main Papers/Hierarchical Transfer Learning for Sentiment Analysis and Text Classification in Low-Resource Domains/Hierarchical-Transfer-Learning-Code/Data/imdb_preprocessed.csv')\n",
    "all_data_df = pd.read_csv('/Users/nikhilmalkari/Documents/PhD/Main Papers/Hierarchical Transfer Learning for Sentiment Analysis and Text Classification in Low-Resource Domains/Hierarchical-Transfer-Learning-Code/Data/all_data_preprocessed.csv')\n",
    "twitter_df = pd.read_csv('/Users/nikhilmalkari/Documents/PhD/Main Papers/Hierarchical Transfer Learning for Sentiment Analysis and Text Classification in Low-Resource Domains/Hierarchical-Transfer-Learning-Code/Data/twitter_preprocessed.csv')\n",
    "\n",
    "# Function to remove 'neutral' sentiments\n",
    "def remove_neutral(df):\n",
    "    return df[df['sentiment'] != 'neutral']\n",
    "\n",
    "# Function to remove 'neutral' and 'irrelevant' sentiments from Twitter dataset\n",
    "def remove_neutral_irrelevant(df):\n",
    "    return df[(df['sentiment'] != 'neutral') & (df['sentiment'] != 'irrelevant')]\n",
    "\n",
    "# Apply the function to remove 'neutral' sentiments from All Data\n",
    "all_data_df = remove_neutral(all_data_df)\n",
    "\n",
    "# Apply the function to remove 'neutral' and 'irrelevant' sentiments from Twitter dataset\n",
    "twitter_df = remove_neutral_irrelevant(twitter_df)\n",
    "\n",
    "# Save the updated datasets back to their respective locations\n",
    "all_data_df.to_csv('/Users/nikhilmalkari/Documents/PhD/Main Papers/Hierarchical Transfer Learning for Sentiment Analysis and Text Classification in Low-Resource Domains/Hierarchical-Transfer-Learning-Code/Data/all_data_no_neutral.csv', index=False)\n",
    "twitter_df.to_csv('/Users/nikhilmalkari/Documents/PhD/Main Papers/Hierarchical Transfer Learning for Sentiment Analysis and Text Classification in Low-Resource Domains/Hierarchical-Transfer-Learning-Code/Data/twitter_no_neutral_irrelevant.csv', index=False)\n",
    "\n",
    "# Check the sentiment labels after removal\n",
    "def check_sentiments(df, name):\n",
    "    print(f\"Unique sentiments in {name}:\")\n",
    "    print(df['sentiment'].unique())\n",
    "    print(\"\\n\")\n",
    "\n",
    "check_sentiments(all_data_df, 'All Data (No Neutral)')\n",
    "check_sentiments(twitter_df, 'Twitter (No Neutral, No Irrelevant)')"
   ]
  },
  {
   "cell_type": "code",
   "execution_count": 5,
   "id": "8f98ebbd-9a12-4d3a-b756-39c4a64d9957",
   "metadata": {},
   "outputs": [
    {
     "name": "stdout",
     "output_type": "stream",
     "text": [
      "Sentiment counts in IMDB:\n",
      "sentiment\n",
      "positive    25000\n",
      "negative    25000\n",
      "Name: count, dtype: int64\n",
      "\n",
      "\n",
      "Sentiment counts in All Data (No Neutral):\n",
      "sentiment\n",
      "positive    1363\n",
      "negative     604\n",
      "Name: count, dtype: int64\n",
      "\n",
      "\n",
      "Sentiment counts in Twitter (No Neutral, No Irrelevant):\n",
      "sentiment\n",
      "negative    22542\n",
      "positive    20832\n",
      "Name: count, dtype: int64\n",
      "\n",
      "\n"
     ]
    }
   ],
   "source": [
    "import pandas as pd\n",
    "\n",
    "# Load the processed datasets\n",
    "imdb_df = pd.read_csv('/Users/nikhilmalkari/Documents/PhD/Main Papers/Hierarchical Transfer Learning for Sentiment Analysis and Text Classification in Low-Resource Domains/Hierarchical-Transfer-Learning-Code/Data/imdb_preprocessed.csv')\n",
    "all_data_df = pd.read_csv('/Users/nikhilmalkari/Documents/PhD/Main Papers/Hierarchical Transfer Learning for Sentiment Analysis and Text Classification in Low-Resource Domains/Hierarchical-Transfer-Learning-Code/Data/all_data_no_neutral.csv')\n",
    "twitter_df = pd.read_csv('/Users/nikhilmalkari/Documents/PhD/Main Papers/Hierarchical Transfer Learning for Sentiment Analysis and Text Classification in Low-Resource Domains/Hierarchical-Transfer-Learning-Code/Data/twitter_no_neutral_irrelevant.csv')\n",
    "\n",
    "# Function to count the number of data points in each category\n",
    "def count_sentiments(df, name):\n",
    "    sentiment_counts = df['sentiment'].value_counts()\n",
    "    print(f\"Sentiment counts in {name}:\")\n",
    "    print(sentiment_counts)\n",
    "    print(\"\\n\")\n",
    "\n",
    "# Check sentiment counts in all datasets\n",
    "count_sentiments(imdb_df, 'IMDB')\n",
    "count_sentiments(all_data_df, 'All Data (No Neutral)')\n",
    "count_sentiments(twitter_df, 'Twitter (No Neutral, No Irrelevant)')\n"
   ]
  },
  {
   "cell_type": "code",
   "execution_count": null,
   "id": "6520b008-b60c-4182-b90b-13d42da90404",
   "metadata": {},
   "outputs": [],
   "source": []
  }
 ],
 "metadata": {
  "kernelspec": {
   "display_name": "Python 3 (ipykernel)",
   "language": "python",
   "name": "python3"
  },
  "language_info": {
   "codemirror_mode": {
    "name": "ipython",
    "version": 3
   },
   "file_extension": ".py",
   "mimetype": "text/x-python",
   "name": "python",
   "nbconvert_exporter": "python",
   "pygments_lexer": "ipython3",
   "version": "3.11.4"
  }
 },
 "nbformat": 4,
 "nbformat_minor": 5
}
